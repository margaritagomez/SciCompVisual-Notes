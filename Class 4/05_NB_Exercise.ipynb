{
 "cells": [
  {
   "cell_type": "markdown",
   "metadata": {},
   "source": [
    "## Visualization techniques for scalar fields in VTK + Python\n",
    "## Goals \n",
    "* Inspect VTK Objects via the qtconsole for Jupyter (using the magic `%qtconsole`)\n",
    "* Including a new filter, mapper, and actor to visualize the complete/partial mesh \n",
    "* Computing new data arrays using the `vtkCalculator()` \n",
    "* Performing data transformations: from rectilinear grid to unstructured grid and image data\n",
    "* Data filtering\n",
    "* Visualizing scalar fields using, points, surfaces, isosurfaces, and volume rendering \n",
    "    * Basics of transfer functions\n",
    "    "
   ]
  },
  {
   "cell_type": "markdown",
   "metadata": {},
   "source": [
    "# Challenge 1: Adding a new Filter+Mapper+Actor to visualize the grid \n",
    "Try to find out how to visualize the mesh structure (grid). Take a look at [RectilinearGrid.py](http://www.vtk.org/Wiki/VTK/Examples/Python/RectilinearGrid/vtkRectilinearGrid) example from the VTK wiki."
   ]
  },
  {
   "cell_type": "code",
   "execution_count": 1,
   "metadata": {
    "collapsed": true
   },
   "outputs": [],
   "source": [
    "import vtk\n",
    "#help(vtk.vtkRectilinearGridReader())\n",
    "\n",
    "rectGridReader = vtk.vtkRectilinearGridReader()\n",
    "rectGridReader.SetFileName(\"data/jet4_0.500.vtk\")\n",
    "# do not forget to call \"Update()\" at the end of the reader\n",
    "rectGridReader.Update()"
   ]
  },
  {
   "cell_type": "code",
   "execution_count": 2,
   "metadata": {
    "collapsed": true
   },
   "outputs": [],
   "source": [
    "rectGridOutline = vtk.vtkRectilinearGridOutlineFilter()\n",
    "rectGridOutline.SetInputData(rectGridReader.GetOutput())\n",
    "\n",
    "# New vtkRectilinearGridGeometryFilter() goes here:\n",
    "plane = vtk.vtkRectilinearGridGeometryFilter()\n",
    "plane.SetInputData(rectGridReader.GetOutput())\n",
    "plane.SetExtent(0, 128, 0, 0, 0, 128)\n",
    "\n",
    "rectGridOutlineMapper = vtk.vtkPolyDataMapper()\n",
    "rectGridOutlineMapper.SetInputConnection(rectGridOutline.GetOutputPort())\n",
    "\n",
    "rectGridGeomMapper = vtk.vtkPolyDataMapper()\n",
    "rectGridGeomMapper.SetInputConnection(plane.GetOutputPort())\n",
    "\n",
    "outlineActor = vtk.vtkActor()\n",
    "outlineActor.SetMapper(rectGridOutlineMapper)\n",
    "outlineActor.GetProperty().SetColor(0, 0, 0)\n",
    "\n",
    "gridGeomActor = vtk.vtkActor()\n",
    "gridGeomActor.SetMapper(rectGridGeomMapper)\n",
    "# Find out how to visualize this as a wireframe \n",
    "gridGeomActor.GetProperty().SetRepresentationToWireframe()\n",
    "# Play with the options you get for setting up actor properties (color, opacity, etc.)\n",
    "gridGeomActor.GetProperty().SetColor(0, 0, 0)\n",
    "\n",
    "# Create the usual rendering stuff.\n",
    "renderer = vtk.vtkRenderer()\n",
    "renWin = vtk.vtkRenderWindow()\n",
    "renWin.AddRenderer(renderer)\n",
    "iren = vtk.vtkRenderWindowInteractor()\n",
    "iren.SetRenderWindow(renWin)\n",
    " \n",
    "renderer.AddActor(gridGeomActor)\n",
    "renderer.AddActor(outlineActor)\n",
    "renderer.SetBackground(1, 1, 1)\n",
    " \n",
    "renWin.SetSize(300, 300)\n",
    " \n",
    "# interact with data\n",
    "renWin.Render()\n",
    "iren.Start()"
   ]
  },
  {
   "cell_type": "markdown",
   "metadata": {},
   "source": [
    "# Challenge 2: Using the vtkCalulator to compute the vector magnitude\n",
    "As you should have noticed our data set has only one point data array named vectors. We need now to use this array to calculate the magnitude of the vectors at each point of the grid. We will do this by using the [vtk.vtkArrayCalculator()](http://www.vtk.org/doc/nightly/html/classvtkArrayCalculator.html)."
   ]
  },
  {
   "cell_type": "code",
   "execution_count": 3,
   "metadata": {
    "collapsed": false
   },
   "outputs": [
    {
     "name": "stdout",
     "output_type": "stream",
     "text": [
      "vtkRectilinearGrid (00000000041E9370)\n",
      "  Debug: Off\n",
      "  Modified Time: 12690292\n",
      "  Reference Count: 2\n",
      "  Registered Events: (none)\n",
      "  Information: 0000000006E777A0\n",
      "  Data Released: False\n",
      "  Global Release Data: Off\n",
      "  UpdateTime: 12690293\n",
      "  Field Data:\n",
      "    Debug: Off\n",
      "    Modified Time: 12690271\n",
      "    Reference Count: 1\n",
      "    Registered Events: (none)\n",
      "    Number Of Arrays: 0\n",
      "    Number Of Components: 0\n",
      "    Number Of Tuples: 0\n",
      "  Number Of Points: 4194304\n",
      "  Number Of Cells: 4112895\n",
      "  Cell Data:\n",
      "    Debug: Off\n",
      "    Modified Time: 12690279\n",
      "    Reference Count: 1\n",
      "    Registered Events: \n",
      "      Registered Observers:\n",
      "        vtkObserver (0000000006E301D0)\n",
      "          Event: 33\n",
      "          EventName: ModifiedEvent\n",
      "          Command: 0000000006CBB800\n",
      "          Priority: 0\n",
      "          Tag: 1\n",
      "    Number Of Arrays: 0\n",
      "    Number Of Components: 0\n",
      "    Number Of Tuples: 0\n",
      "    Copy Tuple Flags: ( 1 1 1 1 1 0 1 1 )\n",
      "    Interpolate Flags: ( 1 1 1 1 1 0 0 1 )\n",
      "    Pass Through Flags: ( 1 1 1 1 1 1 1 1 )\n",
      "    Scalars: (none)\n",
      "    Vectors: (none)\n",
      "    Normals: (none)\n",
      "    TCoords: (none)\n",
      "    Tensors: (none)\n",
      "    GlobalIds: (none)\n",
      "    PedigreeIds: (none)\n",
      "    EdgeFlag: (none)\n",
      "  Point Data:\n",
      "    Debug: Off\n",
      "    Modified Time: 12690292\n",
      "    Reference Count: 1\n",
      "    Registered Events: \n",
      "      Registered Observers:\n",
      "        vtkObserver (0000000006E30230)\n",
      "          Event: 33\n",
      "          EventName: ModifiedEvent\n",
      "          Command: 0000000006CBB800\n",
      "          Priority: 0\n",
      "          Tag: 1\n",
      "    Number Of Arrays: 2\n",
      "    Array 0 name = vectors\n",
      "    Array 1 name = magnitude\n",
      "    Number Of Components: 4\n",
      "    Number Of Tuples: 4194304\n",
      "    Copy Tuple Flags: ( 1 1 1 1 1 0 1 1 )\n",
      "    Interpolate Flags: ( 1 1 1 1 1 0 0 1 )\n",
      "    Pass Through Flags: ( 1 1 1 1 1 1 1 1 )\n",
      "    Scalars: \n",
      "      Debug: Off\n",
      "      Modified Time: 12690289\n",
      "      Reference Count: 1\n",
      "      Registered Events: (none)\n",
      "      Name: magnitude\n",
      "      Data type: double\n",
      "      Size: 4194304\n",
      "      MaxId: 4194303\n",
      "      NumberOfComponents: 1\n",
      "      Information: 0000000000000000\n",
      "      Name: magnitude\n",
      "      Number Of Components: 1\n",
      "      Number Of Tuples: 4194304\n",
      "      Size: 4194304\n",
      "      MaxId: 4194303\n",
      "      LookupTable: (none)\n",
      "      Array: 000000000E950040\n",
      "    Vectors: \n",
      "      Debug: Off\n",
      "      Modified Time: 240\n",
      "      Reference Count: 2\n",
      "      Registered Events: (none)\n",
      "      Name: vectors\n",
      "      Data type: float\n",
      "      Size: 12582912\n",
      "      MaxId: 12582911\n",
      "      NumberOfComponents: 3\n",
      "      Information: 0000000000000000\n",
      "      Name: vectors\n",
      "      Number Of Components: 3\n",
      "      Number Of Tuples: 4194304\n",
      "      Size: 12582912\n",
      "      MaxId: 12582911\n",
      "      LookupTable: (none)\n",
      "      Array: 0000000008040040\n",
      "    Normals: (none)\n",
      "    TCoords: (none)\n",
      "    Tensors: (none)\n",
      "    GlobalIds: (none)\n",
      "    PedigreeIds: (none)\n",
      "    EdgeFlag: (none)\n",
      "  Bounds: \n",
      "    Xmin,Xmax: (0, 0.992124)\n",
      "    Ymin,Ymax: (0, 1.99206)\n",
      "    Zmin,Zmax: (0, 0.992124)\n",
      "  Compute Time: 0\n",
      "  Dimensions: (128, 256, 128)\n",
      "  X Coordinates: 00000000013BE180\n",
      "  Y Coordinates: 00000000013BE0C0\n",
      "  Z Coordinates: 00000000013BE000\n",
      "  Extent: 0, 127, 0, 255, 0, 127\n",
      "\n",
      "\n"
     ]
    }
   ],
   "source": [
    "magnitudeCalcFilter = vtk.vtkArrayCalculator()\n",
    "magnitudeCalcFilter.SetInputConnection(rectGridReader.GetOutputPort())\n",
    "magnitudeCalcFilter.AddVectorArrayName('vectors')\n",
    "# Set up here the array that is going to be used for the computation ('vectors')\n",
    "magnitudeCalcFilter.SetResultArrayName('magnitude')\n",
    "magnitudeCalcFilter.SetFunction(\"mag(vectors)\")\n",
    "# Set up here the function that calculates the magnitude of a vector\n",
    "magnitudeCalcFilter.Update()\n",
    "\n",
    "#Inspect the output of the calculator using the IPython console to verify the result\n",
    "print(magnitudeCalcFilter.GetOutput())"
   ]
  },
  {
   "cell_type": "markdown",
   "metadata": {
    "collapsed": true
   },
   "source": [
    "# Challenge 3: Visualize the data set as colored points based on the \"magnitude\" value\n",
    "Take a look at the [`subset`](http://www.vtk.org/doc/nightly/html/classvtkMaskPoints.html) object. What happens when you change the SetOnRadio parameter? Try out changing between different `RandomModeType` options. What does the `SetScalarModeToUsePointData()` function does?"
   ]
  },
  {
   "cell_type": "code",
   "execution_count": 4,
   "metadata": {
    "collapsed": true
   },
   "outputs": [],
   "source": [
    "#Extract the data from the result of the vtkCalculator\n",
    "points = vtk.vtkPoints()\n",
    "grid = magnitudeCalcFilter.GetOutput()\n",
    "grid.GetPoints(points)\n",
    "scalars = grid.GetPointData().GetArray('magnitude')\n",
    "\n",
    "#Create an unstructured grid that will contain the points and scalars data\n",
    "ugrid = vtk.vtkUnstructuredGrid()\n",
    "ugrid.SetPoints(points)\n",
    "ugrid.GetPointData().SetScalars(scalars)\n",
    "\n",
    "#Populate the cells in the unstructured grid using the output of the vtkCalculator\n",
    "for i in range (0, grid.GetNumberOfCells()):\n",
    "    cell = grid.GetCell(i)\n",
    "    ugrid.InsertNextCell(cell.GetCellType(), cell.GetPointIds())"
   ]
  },
  {
   "cell_type": "code",
   "execution_count": 5,
   "metadata": {
    "collapsed": true
   },
   "outputs": [],
   "source": [
    "#There are too many points, let's filter the points\n",
    "subset = vtk.vtkMaskPoints()\n",
    "subset.SetOnRatio(50)\n",
    "subset.RandomModeOn()\n",
    "subset.SetInputData(ugrid)\n",
    "\n",
    "#Make a vtkPolyData with a vertex on each point.\n",
    "pointsGlyph = vtk.vtkVertexGlyphFilter()\n",
    "pointsGlyph.SetInputConnection(subset.GetOutputPort())\n",
    "#pointsGlyph.SetInputData(ugrid)\n",
    "pointsGlyph.Update()\n",
    "\n",
    "pointsMapper = vtk.vtkPolyDataMapper()\n",
    "pointsMapper.SetInputConnection(pointsGlyph.GetOutputPort())\n",
    "pointsMapper.SetScalarModeToUsePointData()\n",
    "\n",
    "pointsActor = vtk.vtkActor()\n",
    "pointsActor.SetMapper(pointsMapper)"
   ]
  },
  {
   "cell_type": "markdown",
   "metadata": {},
   "source": [
    "# Challenge 4: Visualize the data set as isosurfaces based on the \"magnitude\" value\n",
    "Go to the documentation of vtkContourFilter and explain what does the GenerateValues() do?  Inspect the scalarRange of the magnitude array. What happens when you change these values in the function? "
   ]
  },
  {
   "cell_type": "code",
   "execution_count": 6,
   "metadata": {
    "collapsed": false
   },
   "outputs": [],
   "source": [
    "scalarRange = ugrid.GetPointData().GetScalars().GetRange()\n",
    "lut = vtk.vtkLookupTable()\n",
    "lut.SetNumberOfColors(256)\n",
    "lut.SetHueRange(0.667, 0.0)\n",
    "lut.SetVectorModeToMagnitude()\n",
    "lut.Build()\n",
    "isoFilter = vtk.vtkContourFilter()\n",
    "isoFilter.SetInputData(ugrid)\n",
    "isoFilter.GenerateValues(10, scalarRange)\n",
    "\n",
    "isoMapper = vtk.vtkPolyDataMapper()\n",
    "isoMapper.SetInputConnection(isoFilter.GetOutputPort())\n",
    "isoMapper.SetLookupTable(lut)\n",
    "\n",
    "isoActor = vtk.vtkActor()\n",
    "isoActor.SetMapper(isoMapper)\n",
    "isoActor.GetProperty().SetOpacity(0.5)"
   ]
  },
  {
   "cell_type": "markdown",
   "metadata": {},
   "source": [
    "# An alternative to define colormaps "
   ]
  },
  {
   "cell_type": "code",
   "execution_count": 36,
   "metadata": {
    "collapsed": false
   },
   "outputs": [
    {
     "ename": "AttributeError",
     "evalue": "'vtkCommonDataModelPython.vtkRectilinearGrid' object has no attribute 'GetOutput'",
     "output_type": "error",
     "traceback": [
      "\u001b[1;31m---------------------------------------------------------------------------\u001b[0m",
      "\u001b[1;31mAttributeError\u001b[0m                            Traceback (most recent call last)",
      "\u001b[1;32m<ipython-input-36-abc3040c0233>\u001b[0m in \u001b[0;36m<module>\u001b[1;34m()\u001b[0m\n\u001b[0;32m     15\u001b[0m \u001b[0mhhm\u001b[0m\u001b[1;33m.\u001b[0m\u001b[0mSetScalarModeToUsePointFieldData\u001b[0m\u001b[1;33m(\u001b[0m\u001b[1;33m)\u001b[0m\u001b[1;33m\u001b[0m\u001b[0m\n\u001b[0;32m     16\u001b[0m \u001b[0mhhm\u001b[0m\u001b[1;33m.\u001b[0m\u001b[0mSelectColorArray\u001b[0m\u001b[1;33m(\u001b[0m\u001b[1;34m'vectors'\u001b[0m\u001b[1;33m)\u001b[0m\u001b[1;33m\u001b[0m\u001b[0m\n\u001b[1;32m---> 17\u001b[1;33m \u001b[0mhhm\u001b[0m\u001b[1;33m.\u001b[0m\u001b[0mSetScalarRange\u001b[0m\u001b[1;33m(\u001b[0m\u001b[1;33m(\u001b[0m\u001b[0mgrid\u001b[0m\u001b[1;33m.\u001b[0m\u001b[0mGetOutput\u001b[0m\u001b[1;33m(\u001b[0m\u001b[1;33m)\u001b[0m\u001b[1;33m.\u001b[0m\u001b[0mGetPointData\u001b[0m\u001b[1;33m(\u001b[0m\u001b[1;33m)\u001b[0m\u001b[1;33m.\u001b[0m\u001b[0mGetVectors\u001b[0m\u001b[1;33m(\u001b[0m\u001b[1;33m)\u001b[0m\u001b[1;33m.\u001b[0m\u001b[0mGetRange\u001b[0m\u001b[1;33m(\u001b[0m\u001b[1;33m-\u001b[0m\u001b[1;36m1\u001b[0m\u001b[1;33m)\u001b[0m\u001b[1;33m)\u001b[0m\u001b[1;33m)\u001b[0m\u001b[1;33m\u001b[0m\u001b[0m\n\u001b[0m",
      "\u001b[1;31mAttributeError\u001b[0m: 'vtkCommonDataModelPython.vtkRectilinearGrid' object has no attribute 'GetOutput'"
     ]
    }
   ],
   "source": [
    "lut = vtk.vtkLookupTable()\n",
    "lut.SetNumberOfColors(256)\n",
    "lut.SetHueRange(0.667, 0.0)\n",
    "lut.SetVectorModeToMagnitude()\n",
    "lut.Build()\n",
    "\n",
    "hh = vtk.vtkHedgeHog()\n",
    "hh.SetInputConnection(subset.GetOutputPort())\n",
    "hh.SetScaleFactor(0.001)\n",
    "\n",
    "hhm = vtk.vtkPolyDataMapper()\n",
    "hhm.SetInputConnection(hh.GetOutputPort())\n",
    "hhm.SetLookupTable(lut)\n",
    "hhm.SetScalarVisibility(True)\n",
    "hhm.SetScalarModeToUsePointFieldData()\n",
    "hhm.SelectColorArray('vectors')\n",
    "hhm.SetScalarRange((grid.GetOutput().GetPointData().GetVectors().GetRange(-1)))"
   ]
  },
  {
   "cell_type": "markdown",
   "metadata": {},
   "source": [
    "### Renderer, render window, and interactor "
   ]
  },
  {
   "cell_type": "code",
   "execution_count": null,
   "metadata": {
    "collapsed": true
   },
   "outputs": [],
   "source": [
    "#Option 1: Default vtk render window\n",
    "renderer = vtk.vtkRenderer()\n",
    "renderer.SetBackground(0.5, 0.5, 0.5)\n",
    "renderer.AddActor(outlineActor)\n",
    "renderer.AddActor(isoActor)\n",
    "renderer.ResetCamera()\n",
    "\n",
    "renderWindow = vtk.vtkRenderWindow()\n",
    "renderWindow.AddRenderer(renderer)\n",
    "renderWindow.SetSize(500, 500)\n",
    "renderWindow.Render()\n",
    "\n",
    "iren = vtk.vtkRenderWindowInteractor()\n",
    "iren.SetRenderWindow(renderWindow)\n",
    "iren.Start()"
   ]
  },
  {
   "cell_type": "code",
   "execution_count": null,
   "metadata": {
    "collapsed": true
   },
   "outputs": [],
   "source": []
  }
 ],
 "metadata": {
  "kernelspec": {
   "display_name": "Python 3",
   "language": "python",
   "name": "python3"
  },
  "language_info": {
   "codemirror_mode": {
    "name": "ipython",
    "version": 3
   },
   "file_extension": ".py",
   "mimetype": "text/x-python",
   "name": "python",
   "nbconvert_exporter": "python",
   "pygments_lexer": "ipython3",
   "version": "3.5.3"
  }
 },
 "nbformat": 4,
 "nbformat_minor": 2
}
