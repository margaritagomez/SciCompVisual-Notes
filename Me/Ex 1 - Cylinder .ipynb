{
 "cells": [
  {
   "cell_type": "markdown",
   "metadata": {},
   "source": [
    "# VTK Examples"
   ]
  },
  {
   "cell_type": "markdown",
   "metadata": {},
   "source": [
    "## Cylinder"
   ]
  },
  {
   "cell_type": "code",
   "execution_count": null,
   "metadata": {
    "collapsed": true
   },
   "outputs": [],
   "source": [
    "import vtk\n",
    "from vtk.util.colors import tomato\n",
    "\n",
    "# This creates a polygonal cylinder model with eight circumferential facets.\n",
    "cylinder = vtk.vtkCylinderSource()\n",
    "cylinder.SetResolution(8)\n",
    "\n",
    "# No filters are used, they are optional\n",
    "\n",
    "# Mapper pushes geometry into graphics library. It may also do color mapping if scalars or other attributes are defined.\n",
    "cylinderMapper = vtk."
   ]
  }
 ],
 "metadata": {
  "kernelspec": {
   "display_name": "Python 3",
   "language": "python",
   "name": "python3"
  },
  "language_info": {
   "codemirror_mode": {
    "name": "ipython",
    "version": 3
   },
   "file_extension": ".py",
   "mimetype": "text/x-python",
   "name": "python",
   "nbconvert_exporter": "python",
   "pygments_lexer": "ipython3",
   "version": "3.6.0"
  }
 },
 "nbformat": 4,
 "nbformat_minor": 2
}
