{
 "cells": [
  {
   "cell_type": "markdown",
   "metadata": {},
   "source": [
    "# VTK Examples"
   ]
  },
  {
   "cell_type": "markdown",
   "metadata": {},
   "source": [
    "## Cylinder"
   ]
  },
  {
   "cell_type": "code",
   "execution_count": 7,
   "metadata": {
    "collapsed": true
   },
   "outputs": [],
   "source": [
    "import vtk\n",
    "from vtk.util.colors import tomato"
   ]
  },
  {
   "cell_type": "code",
   "execution_count": 16,
   "metadata": {
    "collapsed": false
   },
   "outputs": [],
   "source": [
    "# This creates a polygonal cylinder model with eight circumferential facets.\n",
    "cylinder = vtk.vtkCylinderSource()\n",
    "cylinder.SetResolution(80)\n",
    "\n",
    "# No filters are used, they are optional\n",
    "\n",
    "# Mapper pushes geometry into graphics library. It may also do color mapping if scalars or other attributes are defined.\n",
    "cylinderMapper = vtk.vtkPolyDataMapper()\n",
    "cylinderMapper.SetInputConnection(cylinder.GetOutputPort())\n",
    "\n",
    "# Actor is a grouping mechanism\n",
    "# Mapper is in charge of geometry, Actor is in charge of visual properties\n",
    "cylActor = vtk.vtkActor()\n",
    "cylActor.SetMapper(cylinderMapper)\n",
    "cylActor.GetProperty().SetColor(tomato)\n",
    "cylActor.RotateX(30.0)\n",
    "cylActor.RotateY(-45.0)\n",
    "\n",
    "# Create renderer\n",
    "ren = vtk.vtkRenderer()\n",
    "renWin = vtk.vtkRenderWindow()\n",
    "renWin.AddRenderer(ren)\n",
    "iren = vtk.vtkRenderWindowInteractor()\n",
    "iren.SetRenderWindow(renWin)\n",
    "\n",
    "# Add actors to renderer, set background and size\n",
    "ren.AddActor(cylActor)\n",
    "ren.SetBackground(0.1,0.2,0.4)\n",
    "renWin.SetSize(600,500)\n",
    "\n",
    "# Initialize interactor\n",
    "iren.Initialize()\n",
    "\n",
    "# Zoom in\n",
    "ren.ResetCamera()\n",
    "ren.GetActiveCamera().Zoom(1.5)\n",
    "renWin.Render()\n",
    "\n",
    "iren.Start()\n"
   ]
  },
  {
   "cell_type": "code",
   "execution_count": null,
   "metadata": {
    "collapsed": true
   },
   "outputs": [],
   "source": []
  }
 ],
 "metadata": {
  "kernelspec": {
   "display_name": "Python 3",
   "language": "python",
   "name": "python3"
  },
  "language_info": {
   "codemirror_mode": {
    "name": "ipython",
    "version": 3
   },
   "file_extension": ".py",
   "mimetype": "text/x-python",
   "name": "python",
   "nbconvert_exporter": "python",
   "pygments_lexer": "ipython3",
   "version": "3.6.0"
  }
 },
 "nbformat": 4,
 "nbformat_minor": 2
}
