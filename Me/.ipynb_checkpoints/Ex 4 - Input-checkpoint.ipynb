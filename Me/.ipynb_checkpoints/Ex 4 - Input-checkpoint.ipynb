{
 "cells": [
  {
   "cell_type": "markdown",
   "metadata": {},
   "source": [
    "# VTK Examples - Input"
   ]
  },
  {
   "cell_type": "markdown",
   "metadata": {},
   "source": [
    "## STLReader"
   ]
  },
  {
   "cell_type": "code",
   "execution_count": 2,
   "metadata": {
    "collapsed": false
   },
   "outputs": [],
   "source": [
    "import vtk\n",
    "\n",
    "filename = \"myfile.stl\"\n",
    "\n",
    "reader = vtk.vtkSTLReader()\n",
    "reader.SetFileName(filename)\n",
    "\n",
    "mapper = vtk.vtkPolyDataMapper()\n",
    "mapper.SetInputConnection(reader.GetOutputPort())\n",
    "actor = vtk.vtkActor()\n",
    "actor.SetMapper(mapper)\n",
    "\n",
    "# Create a rendering window and renderer\n",
    "ren = vtk.vtkRenderer()\n",
    "renWin = vtk.vtkRenderWindow()\n",
    "renWin.AddRenderer(ren)\n",
    "\n",
    "# Create a renderwindowinteractor\n",
    "iren = vtk.vtkRenderWindowInteractor()\n",
    "iren.SetRenderWindow(renWin)\n",
    "\n",
    "# Assign actor to the renderer\n",
    "ren.AddActor(actor)\n",
    "\n",
    "# Enable user interface interactor\n",
    "iren.Initialize()\n",
    "renWin.Render()\n",
    "iren.Start()"
   ]
  },
  {
   "cell_type": "markdown",
   "metadata": {},
   "source": [
    "## UnstructuredGridReader"
   ]
  },
  {
   "cell_type": "code",
   "execution_count": null,
   "metadata": {
    "collapsed": true
   },
   "outputs": [],
   "source": [
    "from vtk import *\n",
    "\n",
    "# The source file\n",
    "file_name = \"uGridEx.vtk\"\n",
    "\n",
    "# Read the source file.\n",
    "reader = vtkUnstructuredGridReader()\n",
    "reader.SetFileName(file_name)\n",
    "reader.Update() # Needed because of GetScalarRange\n",
    "output = reader.GetOutput()\n",
    "scalar_range = output.GetScalarRange()\n",
    "\n",
    "# Create the mapper that corresponds the objects of the vtk file\n",
    "# into graphics elements\n",
    "mapper = vtkDataSetMapper()\n",
    "mapper.SetInputData(output)\n",
    "mapper.SetScalarRange(scalar_range)\n",
    "\n",
    "# Create the Actor\n",
    "actor = vtkActor()\n",
    "actor.SetMapper(mapper)\n",
    "\n",
    "# Create the Renderer\n",
    "renderer = vtkRenderer()\n",
    "renderer.AddActor(actor)\n",
    "renderer.SetBackground(1, 1, 1) # Set background to white\n",
    "\n",
    "# Create the RendererWindow\n",
    "renderer_window = vtkRenderWindow()\n",
    "renderer_window.AddRenderer(renderer)\n",
    "\n",
    "# Create the RendererWindowInteractor and display the vtk_file\n",
    "interactor = vtkRenderWindowInteractor()\n",
    "interactor.SetRenderWindow(renderer_window)\n",
    "interactor.Initialize()\n",
    "interactor.Start()"
   ]
  }
 ],
 "metadata": {
  "kernelspec": {
   "display_name": "Python 3",
   "language": "python",
   "name": "python3"
  },
  "language_info": {
   "codemirror_mode": {
    "name": "ipython",
    "version": 3
   },
   "file_extension": ".py",
   "mimetype": "text/x-python",
   "name": "python",
   "nbconvert_exporter": "python",
   "pygments_lexer": "ipython3",
   "version": "3.6.0"
  }
 },
 "nbformat": 4,
 "nbformat_minor": 2
}
