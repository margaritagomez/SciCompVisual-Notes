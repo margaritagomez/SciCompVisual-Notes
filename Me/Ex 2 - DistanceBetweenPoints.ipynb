{
 "cells": [
  {
   "cell_type": "markdown",
   "metadata": {},
   "source": [
    "# VTK Examples"
   ]
  },
  {
   "cell_type": "markdown",
   "metadata": {},
   "source": [
    "## Distance Between Points"
   ]
  },
  {
   "cell_type": "code",
   "execution_count": 1,
   "metadata": {
    "collapsed": true
   },
   "outputs": [],
   "source": [
    "from __future__ import print_function\n",
    "import vtk\n",
    "import math"
   ]
  },
  {
   "cell_type": "code",
   "execution_count": 2,
   "metadata": {
    "collapsed": false
   },
   "outputs": [
    {
     "name": "stdout",
     "output_type": "stream",
     "text": [
      "p0 = (0, 0, 0)\n",
      "p1 = (1, 1, 1)\n",
      "distance squared =  3.0\n",
      "distance = 1.7320508075688772\n"
     ]
    }
   ],
   "source": [
    "p0 = (0,0,0)\n",
    "p1 = (1,1,1)\n",
    "\n",
    "distSquared = vtk.vtkMath.Distance2BetweenPoints(p0,p1)\n",
    "\n",
    "dist = math.sqrt(distSquared)\n",
    "\n",
    "print(\"p0 =\", p0)\n",
    "print(\"p1 =\", p1)\n",
    "print(\"distance squared = \", distSquared)\n",
    "print(\"distance =\", dist)"
   ]
  }
 ],
 "metadata": {
  "kernelspec": {
   "display_name": "Python 3",
   "language": "python",
   "name": "python3"
  },
  "language_info": {
   "codemirror_mode": {
    "name": "ipython",
    "version": 3
   },
   "file_extension": ".py",
   "mimetype": "text/x-python",
   "name": "python",
   "nbconvert_exporter": "python",
   "pygments_lexer": "ipython3",
   "version": "3.6.0"
  }
 },
 "nbformat": 4,
 "nbformat_minor": 2
}
