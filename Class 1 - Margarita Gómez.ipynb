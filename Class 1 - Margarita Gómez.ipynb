{
 "cells": [
  {
   "cell_type": "markdown",
   "metadata": {},
   "source": [
    "# Clase 1 - Margarita Gómez"
   ]
  },
  {
   "cell_type": "markdown",
   "metadata": {
    "collapsed": true
   },
   "source": [
    "## Exercise\n",
    "### Define a function that returns a list of numbers that sum up to 1 "
   ]
  },
  {
   "cell_type": "code",
   "execution_count": 78,
   "metadata": {
    "collapsed": true
   },
   "outputs": [],
   "source": [
    "import math\n",
    "import numpy as np\n",
    "import random"
   ]
  },
  {
   "cell_type": "code",
   "execution_count": 79,
   "metadata": {
    "collapsed": false
   },
   "outputs": [
    {
     "name": "stdout",
     "output_type": "stream",
     "text": [
      "2 numbers that sum up to 1.0 are [0.5542718553885736, 0.4457281446114264]\n",
      "5 numbers that sum up to 1.0 are [0.22094349121940793, 0.07226297974197693, 0.03621515478316778, 0.19459808560423633, 0.475980288651211]\n",
      "\n",
      "10 numbers that sum up to 1.0 are [0.10951169845284053, 0.058945729570160865, 0.02184329215864195, 0.09724075543888647, 0.04935008559514274, 0.0570080130170058, 0.04197572144662497, 0.10034308317904912, 0.079173208993938, 0.3846084121477096]\n",
      "\n",
      "20 numbers that sum up to 1.0 are [0.002394409578987493, 0.015526689852185766, 0.009966227806255007, 0.005082835925353787, 0.028147834228859987, 0.023710575677388532, 0.04861672087266146, 0.028620315865610358, 0.048282893259507, 0.013406467050724902, 0.012642206998939195, 0.008772079714938751, 0.03317675347118567, 0.044370721796179874, 0.05060418589904413, 0.00874985099938284, 0.014376622878122667, 0.04276879269128797, 0.0006852144805479652, 0.5600986009528366]\n",
      "\n",
      "50 numbers that sum up to 1.0 are [0.016052350794228613, 0.016951812669768588, 0.001372575057102038, 0.010928268828181835, 6.234860644018157e-05, 0.0055803433711036025, 0.005360144780552673, 0.013820459726975159, 0.002993993447251112, 0.015358576528475356, 0.013703706404822186, 0.018749357833238844, 0.017276514613542716, 0.008913460539663784, 0.015642909072605706, 0.0037605275979715686, 0.0052869587039603766, 0.0034301793087942486, 0.012256552810588633, 0.0044364789742238975, 0.01127666686524181, 0.016081595073967538, 0.007054775340747082, 0.01623892504844153, 0.01364866898968634, 0.0027098191062592076, 0.010040211545793066, 0.0029919907409498192, 0.01704610694043276, 0.0037820825340230007, 0.013826182689661806, 0.01690665960027358, 0.007588835193775173, 0.0023814475093568302, 0.009692434511458556, 0.0007723568312677645, 0.009506443681158102, 0.01770951955378369, 0.019046057915970444, 0.018711930156359843, 0.014420606954159467, 0.002367869149279286, 0.01620724954742555, 0.01079852696130934, 0.009075614833988667, 0.006113072461209303, 0.012163853916267548, 0.011612849738528505, 0.01167103942826843, 0.4966190875114648]\n"
     ]
    }
   ],
   "source": [
    "def randomSum1 (number):\n",
    "    # Creates array on size number-1 with random numbers between 0 and 1/(number-1)\n",
    "    randomNumbers = [random.uniform(0,1/(number-1)) for i in range(1,number)]\n",
    "    # Adds all the elements of the created array\n",
    "    sumRnd = sum(randomNumbers)\n",
    "    # Gets the value that is missing in order for the array to sum up to 1\n",
    "    new = 1-sumRnd\n",
    "    # Appends the missing value to the array\n",
    "    randomNumbers.append(new)\n",
    "    # Adds the elements again, the result should be 1\n",
    "    sumRnd = sum(randomNumbers)\n",
    "    # Sum and numbers are printed\n",
    "    print(number,'numbers that sum up to',sumRnd,'are',randomNumbers)\n",
    "    \n",
    "randomSum1(2)    \n",
    "print\n",
    "randomSum1(5)\n",
    "print()\n",
    "randomSum1(10)\n",
    "print()\n",
    "randomSum1(20)\n",
    "print()\n",
    "randomSum1(50)\n"
   ]
  }
 ],
 "metadata": {
  "kernelspec": {
   "display_name": "Python 3",
   "language": "python",
   "name": "python3"
  },
  "language_info": {
   "codemirror_mode": {
    "name": "ipython",
    "version": 3
   },
   "file_extension": ".py",
   "mimetype": "text/x-python",
   "name": "python",
   "nbconvert_exporter": "python",
   "pygments_lexer": "ipython3",
   "version": "3.6.0"
  }
 },
 "nbformat": 4,
 "nbformat_minor": 2
}
