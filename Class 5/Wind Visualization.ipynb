{
 "cells": [
  {
   "cell_type": "markdown",
   "metadata": {},
   "source": [
    "# Exercise Day 5"
   ]
  },
  {
   "cell_type": "markdown",
   "metadata": {},
   "source": [
    "Design your own transfer function to highlight relevant features in the data set \"wind.vti\". Since you already know how to use the vtkArrayCalculator to compute new arrays, feel free to explore what other interesting data can you derive from the available data."
   ]
  },
  {
   "cell_type": "markdown",
   "metadata": {},
   "source": [
    "## Visualization 1: Isosurfaces"
   ]
  },
  {
   "cell_type": "code",
   "execution_count": 2,
   "metadata": {
    "collapsed": true
   },
   "outputs": [],
   "source": [
    "import vtk"
   ]
  },
  {
   "cell_type": "code",
   "execution_count": 4,
   "metadata": {
    "collapsed": true
   },
   "outputs": [],
   "source": [
    "# Read the file (to test that it was written correctly)\n",
    "reader = vtk.vtkXMLImageDataReader()\n",
    "reader.SetFileName(\"../data/wind_image.vti\")\n",
    "reader.Update()\n",
    "\n",
    "# Convert the image to a polydata\n",
    "imageDataGeometryFilter = vtk.vtkImageDataGeometryFilter()\n",
    "imageDataGeometryFilter.SetInputConnection(reader.GetOutputPort())\n",
    "imageDataGeometryFilter.Update()\n",
    "\n",
    "scalarRange = reader.GetOutput().GetPointData().GetScalars().GetRange(-1)\n",
    "contoursFilter = vtk.vtkContourFilter()\n",
    "contoursFilter.SetInputConnection(reader.GetOutputPort())\n",
    "contoursFilter.GenerateValues(15, scalarRange)\n",
    "\n",
    "contoursMapper = vtk.vtkPolyDataMapper()\n",
    "contoursMapper.SetInputConnection(contoursFilter.GetOutputPort())\n",
    "contoursMapper.SetColorModeToMapScalars()\n",
    "contoursMapper.ScalarVisibilityOn()\n",
    "contoursMapper.SelectColorArray(\"wind_speed\")\n",
    "contoursMapper.SetScalarRange(scalarRange)\n",
    "\n",
    "contoursActor = vtk.vtkActor()\n",
    "contoursActor.SetMapper(contoursMapper)\n",
    "\n",
    "actor = vtk.vtkActor()\n",
    "actor.SetMapper(contoursMapper)\n",
    " \n",
    "# Setup rendering\n",
    "renderer = vtk.vtkRenderer()\n",
    "renderer.AddActor(actor)\n",
    "renderer.SetBackground(1,1,1)\n",
    "renderer.ResetCamera()\n",
    " \n",
    "renderWindow = vtk.vtkRenderWindow()\n",
    "renderWindow.AddRenderer(renderer)\n",
    " \n",
    "renderWindowInteractor = vtk.vtkRenderWindowInteractor()\n",
    " \n",
    "renderWindowInteractor.SetRenderWindow(renderWindow)\n",
    "renderWindowInteractor.Start()"
   ]
  },
  {
   "cell_type": "markdown",
   "metadata": {},
   "source": [
    "## Visualization 2: Points"
   ]
  },
  {
   "cell_type": "code",
   "execution_count": 6,
   "metadata": {
    "collapsed": true
   },
   "outputs": [],
   "source": [
    "# Read the file (to test that it was written correctly)\n",
    "reader = vtk.vtkXMLImageDataReader()\n",
    "reader.SetFileName(\"../data/wind_image.vti\")\n",
    "reader.Update()\n",
    "\n",
    "# Convert the image to a polydata\n",
    "imageDataGeometryFilter = vtk.vtkImageDataGeometryFilter()\n",
    "imageDataGeometryFilter.SetInputConnection(reader.GetOutputPort())\n",
    "imageDataGeometryFilter.Update()\n",
    "\n",
    "scalarRange = reader.GetOutput().GetPointData().GetScalars().GetRange(-1)\n",
    "contoursFilter = vtk.vtkContourFilter()\n",
    "contoursFilter.SetInputConnection(reader.GetOutputPort())\n",
    "contoursFilter.GenerateValues(100, scalarRange)\n",
    "\n",
    "contoursMapper = vtk.vtkPolyDataMapper()\n",
    "contoursMapper.SetInputConnection(imageDataGeometryFilter.GetOutputPort())\n",
    "contoursMapper.SetColorModeToMapScalars()\n",
    "contoursMapper.ScalarVisibilityOn()\n",
    "contoursMapper.SelectColorArray(\"wind_speed\")\n",
    "contoursMapper.SetScalarRange(scalarRange)\n",
    "\n",
    "contoursActor = vtk.vtkActor()\n",
    "contoursActor.SetMapper(contoursMapper)\n",
    "\n",
    "actor = vtk.vtkActor()\n",
    "actor.SetMapper(contoursMapper)\n",
    " \n",
    "# Setup rendering\n",
    "renderer = vtk.vtkRenderer()\n",
    "renderer.AddActor(actor)\n",
    "renderer.SetBackground(1,1,1)\n",
    "renderer.ResetCamera()\n",
    " \n",
    "renderWindow = vtk.vtkRenderWindow()\n",
    "renderWindow.AddRenderer(renderer)\n",
    " \n",
    "renderWindowInteractor = vtk.vtkRenderWindowInteractor()\n",
    " \n",
    "renderWindowInteractor.SetRenderWindow(renderWindow)\n",
    "renderWindowInteractor.Start()"
   ]
  },
  {
   "cell_type": "code",
   "execution_count": null,
   "metadata": {
    "collapsed": true
   },
   "outputs": [],
   "source": []
  }
 ],
 "metadata": {
  "kernelspec": {
   "display_name": "Python 3",
   "language": "python",
   "name": "python3"
  },
  "language_info": {
   "codemirror_mode": {
    "name": "ipython",
    "version": 3
   },
   "file_extension": ".py",
   "mimetype": "text/x-python",
   "name": "python",
   "nbconvert_exporter": "python",
   "pygments_lexer": "ipython3",
   "version": "3.6.0"
  }
 },
 "nbformat": 4,
 "nbformat_minor": 2
}
