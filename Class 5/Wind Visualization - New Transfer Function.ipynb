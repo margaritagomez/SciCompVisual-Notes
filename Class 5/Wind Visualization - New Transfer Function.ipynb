{
 "cells": [
  {
   "cell_type": "markdown",
   "metadata": {},
   "source": [
    "# Exercise Day 5"
   ]
  },
  {
   "cell_type": "markdown",
   "metadata": {},
   "source": [
    "Design your own transfer function to highlight relevant features in the data set \"wind.vti\". Since you already know how to use the vtkArrayCalculator to compute new arrays, feel free to explore what other interesting data can you derive from the available data."
   ]
  },
  {
   "cell_type": "markdown",
   "metadata": {},
   "source": [
    "## Visualization 1: Isosurfaces"
   ]
  },
  {
   "cell_type": "code",
   "execution_count": 2,
   "metadata": {
    "collapsed": true
   },
   "outputs": [],
   "source": [
    "import vtk"
   ]
  },
  {
   "cell_type": "code",
   "execution_count": 37,
   "metadata": {
    "collapsed": true
   },
   "outputs": [],
   "source": [
    "# Read the file (to test that it was written correctly)\n",
    "reader = vtk.vtkXMLImageDataReader()\n",
    "reader.SetFileName(\"../data/wind_image.vti\")\n",
    "reader.Update()\n",
    "\n",
    "# Convert the image to a polydata\n",
    "imageDataGeometryFilter = vtk.vtkImageDataGeometryFilter()\n",
    "imageDataGeometryFilter.SetInputConnection(reader.GetOutputPort())\n",
    "imageDataGeometryFilter.Update()\n",
    "\n",
    "scalarRange = reader.GetOutput().GetPointData().GetScalars().GetRange(-1)\n",
    "contoursFilter = vtk.vtkContourFilter()\n",
    "contoursFilter.SetInputConnection(reader.GetOutputPort())\n",
    "contoursFilter.GenerateValues(15, scalarRange)\n",
    "\n",
    "contoursMapper = vtk.vtkPolyDataMapper()\n",
    "contoursMapper.SetInputConnection(contoursFilter.GetOutputPort())\n",
    "contoursMapper.SetColorModeToMapScalars()\n",
    "contoursMapper.ScalarVisibilityOn()\n",
    "contoursMapper.SelectColorArray(\"wind_speed\")\n",
    "contoursMapper.SetScalarRange(scalarRange)\n",
    "\n",
    "contoursActor = vtk.vtkActor()\n",
    "contoursActor.SetMapper(contoursMapper)\n",
    "\n",
    "actor = vtk.vtkActor()\n",
    "actor.SetMapper(contoursMapper)\n",
    " \n",
    "# Setup rendering\n",
    "renderer = vtk.vtkRenderer()\n",
    "renderer.AddActor(actor)\n",
    "renderer.SetBackground(1,1,1)\n",
    "renderer.ResetCamera()\n",
    " \n",
    "renderWindow = vtk.vtkRenderWindow()\n",
    "renderWindow.AddRenderer(renderer)\n",
    " \n",
    "renderWindowInteractor = vtk.vtkRenderWindowInteractor()\n",
    " \n",
    "renderWindowInteractor.SetRenderWindow(renderWindow)\n",
    "renderWindowInteractor.Start()"
   ]
  },
  {
   "cell_type": "markdown",
   "metadata": {},
   "source": [
    "## Visualization 2: Points"
   ]
  },
  {
   "cell_type": "code",
   "execution_count": 38,
   "metadata": {
    "collapsed": true
   },
   "outputs": [],
   "source": [
    "# Read the file (to test that it was written correctly)\n",
    "reader = vtk.vtkXMLImageDataReader()\n",
    "reader.SetFileName(\"../data/wind_image.vti\")\n",
    "reader.Update()\n",
    "\n",
    "# Convert the image to a polydata\n",
    "imageDataGeometryFilter = vtk.vtkImageDataGeometryFilter()\n",
    "imageDataGeometryFilter.SetInputConnection(reader.GetOutputPort())\n",
    "imageDataGeometryFilter.Update()\n",
    "\n",
    "scalarRange = reader.GetOutput().GetPointData().GetScalars().GetRange(-1)\n",
    "contoursFilter = vtk.vtkContourFilter()\n",
    "contoursFilter.SetInputConnection(reader.GetOutputPort())\n",
    "contoursFilter.GenerateValues(100, scalarRange)\n",
    "\n",
    "contoursMapper = vtk.vtkPolyDataMapper()\n",
    "contoursMapper.SetInputConnection(imageDataGeometryFilter.GetOutputPort())\n",
    "contoursMapper.SetColorModeToMapScalars()\n",
    "contoursMapper.ScalarVisibilityOn()\n",
    "contoursMapper.SelectColorArray(\"wind_speed\")\n",
    "contoursMapper.SetScalarRange(scalarRange)\n",
    "\n",
    "contoursActor = vtk.vtkActor()\n",
    "contoursActor.SetMapper(contoursMapper)\n",
    "\n",
    "actor = vtk.vtkActor()\n",
    "actor.SetMapper(contoursMapper)\n",
    " \n",
    "# Setup rendering\n",
    "renderer = vtk.vtkRenderer()\n",
    "renderer.AddActor(actor)\n",
    "renderer.SetBackground(1,1,1)\n",
    "renderer.ResetCamera()\n",
    " \n",
    "renderWindow = vtk.vtkRenderWindow()\n",
    "renderWindow.AddRenderer(renderer)\n",
    " \n",
    "renderWindowInteractor = vtk.vtkRenderWindowInteractor()\n",
    " \n",
    "renderWindowInteractor.SetRenderWindow(renderWindow)\n",
    "renderWindowInteractor.Start()"
   ]
  },
  {
   "cell_type": "markdown",
   "metadata": {},
   "source": [
    "## Visualization 3: Transfer function with ArrayCalculator"
   ]
  },
  {
   "cell_type": "markdown",
   "metadata": {},
   "source": [
    "As the magnitude of the vector of wind velocity increases, the shade of red becomes darker. I assigned lower values of opacity to the outer layers, that were the ones with higher magnitudes in order to visualize the inner layers easier."
   ]
  },
  {
   "cell_type": "code",
   "execution_count": 39,
   "metadata": {
    "collapsed": false
   },
   "outputs": [],
   "source": [
    "import vtk\n",
    "\n",
    "#------------READER ----------------------\n",
    "rectGridReader = vtk.vtkXMLImageDataReader()\n",
    "rectGridReader.SetFileName(\"../data/wind_image.vti\")\n",
    "rectGridReader.Update()\n",
    "#------------END READER ------------------\n",
    "\n",
    "imageDataGeometryFilter = vtk.vtkImageDataGeometryFilter()\n",
    "imageDataGeometryFilter.SetInputConnection(rectGridReader.GetOutputPort())\n",
    "imageDataGeometryFilter.Update()\n",
    "\n",
    "scalarRange = rectGridReader.GetOutput().GetPointData().GetScalars().GetRange(-1)\n",
    "contoursFilter = vtk.vtkContourFilter()\n",
    "contoursFilter.SetInputConnection(imageDataGeometryFilter.GetOutputPort())\n",
    "contoursFilter.GenerateValues(30, scalarRange)\n",
    "\n",
    "#------------ FILTER: CALCULATE VECTOR MAGNITUDE ----------------------\n",
    "magnitudeCalcFilter = vtk.vtkArrayCalculator()\n",
    "magnitudeCalcFilter.SetInputConnection(rectGridReader.GetOutputPort())\n",
    "magnitudeCalcFilter.AddVectorArrayName('wind_velocity')\n",
    "magnitudeCalcFilter.SetResultArrayName('magnitude')\n",
    "magnitudeCalcFilter.SetFunction(\"mag(wind_velocity)\") \n",
    "magnitudeCalcFilter.Update()\n",
    "#------------END CALCULATE VECTOR MAGNITUDE ----------------------\n",
    "\n",
    "#------------FILTER: RECTILINEAR GRID TO IMAGE DATA-----------\n",
    "bounds = magnitudeCalcFilter.GetOutput().GetBounds()\n",
    "dimensions = magnitudeCalcFilter.GetOutput().GetDimensions()\n",
    "origin = (bounds[0], bounds[2], bounds[4])\n",
    "spacing = ( (bounds[1]-bounds[0])/dimensions[0], \n",
    "            (bounds[3]-bounds[2])/dimensions[1],\n",
    "            (bounds[5]-bounds[4])/dimensions[2])\n",
    "\n",
    "imageData = vtk.vtkImageData()\n",
    "imageData.SetOrigin(origin)\n",
    "imageData.SetDimensions(dimensions)\n",
    "imageData.SetSpacing(spacing)\n",
    "\n",
    "probeFilter = vtk.vtkProbeFilter()\n",
    "probeFilter.SetInputData(imageData)\n",
    "probeFilter.SetSourceData(magnitudeCalcFilter.GetOutput())\n",
    "probeFilter.Update()\n",
    "\n",
    "imageData2 = probeFilter.GetImageDataOutput()\n",
    "#------------END RECTILINEAR GRID TO IMAGE DATA-----------\n",
    "\n",
    "##------------FILTER, MAPPER, AND ACTOR: VOLUME RENDERING -------------------\n",
    "# Create transfer mapping scalar value to opacity\n",
    "opacityTransferFunction = vtk.vtkPiecewiseFunction()\n",
    "opacityTransferFunction.AddPoint(0, 0.02)\n",
    "opacityTransferFunction.AddPoint(1, 0.05)\n",
    "opacityTransferFunction.AddPoint(2, 0.1)\n",
    "opacityTransferFunction.AddPoint(6, 0.1)\n",
    "opacityTransferFunction.AddPoint(10, 0.1)\n",
    "opacityTransferFunction.AddPoint(15, 0.1)\n",
    "opacityTransferFunction.AddPoint(20, 0.3)\n",
    "opacityTransferFunction.AddPoint(25, 0.3)\n",
    "opacityTransferFunction.AddPoint(30, 0.3)\n",
    "opacityTransferFunction.AddPoint(40, 0.3)\n",
    "opacityTransferFunction.AddPoint(50, 0.7)\n",
    "opacityTransferFunction.AddPoint(60, 0.8)\n",
    "opacityTransferFunction.AddPoint(70, 0.9)\n",
    "\n",
    "\n",
    "# Create transfer mapping scalar value to color\n",
    "colorTransferFunction = vtk.vtkColorTransferFunction()\n",
    "colorTransferFunction.AddRGBPoint(0.0, 239/255, 207/255, 210/255)\n",
    "colorTransferFunction.AddRGBPoint(1.0, 242/255, 150/255, 147/255)\n",
    "colorTransferFunction.AddRGBPoint(2.0, 249/255, 129/255, 124/255)\n",
    "colorTransferFunction.AddRGBPoint(6.0, 247/255, 99/255, 93/255)\n",
    "colorTransferFunction.AddRGBPoint(10.0, 247/255, 75/255, 69/255)\n",
    "colorTransferFunction.AddRGBPoint(15.0, 242/255, 50/255, 43/255)\n",
    "colorTransferFunction.AddRGBPoint(20.0, 242/255, 33/255, 26/255)\n",
    "colorTransferFunction.AddRGBPoint(25.0, 214/255, 31/255, 25/255)\n",
    "colorTransferFunction.AddRGBPoint(30.0, 186/255, 31/255, 26/255)\n",
    "colorTransferFunction.AddRGBPoint(40.0, 165/255, 21/255, 16/255)\n",
    "colorTransferFunction.AddRGBPoint(50.0, 104/255, 5/255, 2/255)\n",
    "colorTransferFunction.AddRGBPoint(60.0, 89/255, 5/255, 2/255)\n",
    "colorTransferFunction.AddRGBPoint(70.0, 58/255, 3/255, 1/255)\n",
    "\n",
    "\n",
    "# The property describes how the data will look\n",
    "volumeProperty = vtk.vtkVolumeProperty()\n",
    "volumeProperty.SetColor(colorTransferFunction)\n",
    "volumeProperty.SetScalarOpacity(opacityTransferFunction)\n",
    "volumeProperty.ShadeOff()\n",
    "volumeProperty.SetInterpolationTypeToLinear()\n",
    "\n",
    "\n",
    "# The mapper / ray cast function know how to render the data\n",
    "volumeMapper = vtk.vtkGPUVolumeRayCastMapper()\n",
    "volumeMapper.SetInputData(imageData2)\n",
    "\n",
    "# The volume holds the mapper and the property and\n",
    "# can be used to position/orient the volume\n",
    "volume = vtk.vtkVolume()\n",
    "volume.SetMapper(volumeMapper)\n",
    "volume.SetProperty(volumeProperty)\n",
    "\n",
    "##------------END VOLUME RENDERING ----------------------\n",
    "\n",
    "#---------RENDERER, RENDER WINDOW, AND INTERACTOR ----------\n",
    "renderer = vtk.vtkRenderer()\n",
    "renderer.SetBackground(0.5, 0.5, 0.5)\n",
    "renderer.AddVolume(volume)\n",
    "renderer.ResetCamera()\n",
    "\n",
    "renderWindow = vtk.vtkRenderWindow()\n",
    "renderWindow.AddRenderer(renderer)\n",
    "renderWindow.SetSize(500, 500)\n",
    "renderWindow.Render()\n",
    "\n",
    "iren = vtk.vtkRenderWindowInteractor()\n",
    "iren.SetRenderWindow(renderWindow)\n",
    "iren.Start()\n",
    "#---------END RENDERER, RENDER WINDOW, AND INTERACTOR -------"
   ]
  },
  {
   "cell_type": "code",
   "execution_count": 10,
   "metadata": {
    "collapsed": true
   },
   "outputs": [],
   "source": [
    "%qtconsole"
   ]
  }
 ],
 "metadata": {
  "kernelspec": {
   "display_name": "Python 3",
   "language": "python",
   "name": "python3"
  },
  "language_info": {
   "codemirror_mode": {
    "name": "ipython",
    "version": 3
   },
   "file_extension": ".py",
   "mimetype": "text/x-python",
   "name": "python",
   "nbconvert_exporter": "python",
   "pygments_lexer": "ipython3",
   "version": "3.6.0"
  }
 },
 "nbformat": 4,
 "nbformat_minor": 2
}
